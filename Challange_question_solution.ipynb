{
  "nbformat": 4,
  "nbformat_minor": 0,
  "metadata": {
    "colab": {
      "provenance": [],
      "authorship_tag": "ABX9TyPMLbJswsQuMvAjame4PyoS",
      "include_colab_link": true
    },
    "kernelspec": {
      "name": "python3",
      "display_name": "Python 3"
    },
    "language_info": {
      "name": "python"
    }
  },
  "cells": [
    {
      "cell_type": "markdown",
      "metadata": {
        "id": "view-in-github",
        "colab_type": "text"
      },
      "source": [
        "<a href=\"https://colab.research.google.com/github/RohitRana208/thapar-ss-Assignment-2-challange-question-/blob/main/Challange_question_solution.ipynb\" target=\"_parent\"><img src=\"https://colab.research.google.com/assets/colab-badge.svg\" alt=\"Open In Colab\"/></a>"
      ]
    },
    {
      "cell_type": "code",
      "execution_count": 6,
      "metadata": {
        "colab": {
          "base_uri": "https://localhost:8080/"
        },
        "id": "r7Q1UYseXmIt",
        "outputId": "8b58601b-ac1a-407c-aed3-f4d03fa2c9de"
      },
      "outputs": [
        {
          "output_type": "stream",
          "name": "stdout",
          "text": [
            "L --> ['Ram', 1, 'Shyam', 2, 'Aman', 3]\n",
            "After sorting L --> [1, 2, 3, 'Aman', 'Ram', 'Shyam']\n"
          ]
        }
      ],
      "source": [
        "L = [\"Ram\", 1, \"Shyam\", 2, \"Aman\", 3]\n",
        "print(\"L -->\",L)\n",
        "\n",
        "def tuple(n):\n",
        "    try:\n",
        "        i = int(n)\n",
        "        return (0, i, '')\n",
        "    except ValueError:\n",
        "        return (1, n, '')\n",
        "L.sort(key = tuple)\n",
        "print(\"After sorting L -->\",L)"
      ]
    }
  ]
}